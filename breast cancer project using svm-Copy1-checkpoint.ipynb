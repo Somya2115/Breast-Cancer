{
 "cells": [
  {
   "cell_type": "code",
   "execution_count": 11,
   "id": "07e87c6d",
   "metadata": {},
   "outputs": [
    {
     "name": "stdout",
     "output_type": "stream",
     "text": [
      "Features: ['mean radius' 'mean texture' 'mean perimeter' 'mean area'\n",
      " 'mean smoothness' 'mean compactness' 'mean concavity'\n",
      " 'mean concave points' 'mean symmetry' 'mean fractal dimension'\n",
      " 'radius error' 'texture error' 'perimeter error' 'area error'\n",
      " 'smoothness error' 'compactness error' 'concavity error'\n",
      " 'concave points error' 'symmetry error' 'fractal dimension error'\n",
      " 'worst radius' 'worst texture' 'worst perimeter' 'worst area'\n",
      " 'worst smoothness' 'worst compactness' 'worst concavity'\n",
      " 'worst concave points' 'worst symmetry' 'worst fractal dimension']\n",
      "label: ['malignant' 'benign']\n",
      "accuracy= 0.9649122807017544\n",
      "precision: 0.9811320754716981\n",
      "recall: 0.9629629629629629\n",
      "confusion matrix: [[ 61   2]\n",
      " [  4 104]]\n"
     ]
    }
   ],
   "source": [
    "## libraries\n",
    "from sklearn import datasets\n",
    "from sklearn.model_selection import train_test_split\n",
    "from sklearn import metrics\n",
    "from sklearn import svm\n",
    "# load dataset\n",
    "cancer= datasets.load_breast_cancer()\n",
    "#EDA (TARGET AND FEATURE VALUES)\n",
    "print(\"Features:\",cancer.feature_names)\n",
    "# label values (melignan or benign i.e tumor is cancerous or not)\n",
    "print(\"label:\",cancer.target_names)\n",
    "# split into training and test test 70% training and 30% test set\n",
    "X_train,X_test,Y_train,Y_test=train_test_split(cancer.data,cancer.target,test_size=0.3, random_state=109)\n",
    "# generative model\n",
    "clf=svm.SVC(kernel='linear')\n",
    "# train the model using training data set\n",
    "clf.fit(X_train,Y_train)\n",
    "Y_pred=clf.predict(X_test)\n",
    "\n",
    "#### evaluating the model i.e accuracy and precision\n",
    "print(\"accuracy=\",metrics.accuracy_score(Y_test,Y_pred))\n",
    "#model precision\n",
    "print(\"precision:\",metrics.precision_score(Y_test,Y_pred))\n",
    "print(\"recall:\",metrics.recall_score(Y_test,Y_pred))\n",
    "print(\"confusion matrix:\",metrics.confusion_matrix(Y_test,Y_pred))"
   ]
  },
  {
   "cell_type": "code",
   "execution_count": null,
   "id": "0224e4b3",
   "metadata": {},
   "outputs": [],
   "source": []
  }
 ],
 "metadata": {
  "kernelspec": {
   "display_name": "Python 3 (ipykernel)",
   "language": "python",
   "name": "python3"
  },
  "language_info": {
   "codemirror_mode": {
    "name": "ipython",
    "version": 3
   },
   "file_extension": ".py",
   "mimetype": "text/x-python",
   "name": "python",
   "nbconvert_exporter": "python",
   "pygments_lexer": "ipython3",
   "version": "3.9.13"
  }
 },
 "nbformat": 4,
 "nbformat_minor": 5
}
